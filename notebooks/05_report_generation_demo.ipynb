{
 "cells": [
  {
   "cell_type": "markdown",
   "metadata": {},
   "source": [
    "# Fed Minutes Research Report Generation Demo\n",
    "\n",
    "This notebook demonstrates Phase 4 capabilities:\n",
    "- **Automated research report generation** from Fed Minutes analysis\n",
    "- **Multiple export formats** (HTML, Markdown, JSON, PDF, LaTeX)\n",
    "- **Academic citation management** with multiple styles\n",
    "- **Timeline generation** and policy evolution tracking\n",
    "\n",
    "## Setup"
   ]
  },
  {
   "cell_type": "code",
   "execution_count": null,
   "metadata": {},
   "outputs": [],
   "source": [
    "import sys\n",
    "sys.path.append('..')\n",
    "\n",
    "from src.utils.config import load_config\n",
    "from src.phase4_reports import (\n",
    "    create_report_generator,\n",
    "    ExportManager,\n",
    "    ExportFormat,\n",
    "    CitationStyle,\n",
    "    CitationManager\n",
    ")\n",
    "\n",
    "import os\n",
    "from datetime import datetime\n",
    "\n",
    "# Load configuration\n",
    "config = load_config()\n",
    "print(\"Configuration loaded successfully\")\n",
    "print(f\"LLM Provider: {config.get('llm', {}).get('provider')}\")\n",
    "print(f\"Model: {config.get('llm', {}).get('model')}\")"
   ]
  },
  {
   "cell_type": "markdown",
   "metadata": {},
   "source": [
    "## 1. Initialize Report Generator\n",
    "\n",
    "The report generator combines the RAG pipeline with structured report generation capabilities."
   ]
  },
  {
   "cell_type": "code",
   "execution_count": null,
   "metadata": {},
   "outputs": [],
   "source": [
    "# Initialize report generator\n",
    "print(\"Initializing report generator...\")\n",
    "report_gen = create_report_generator(config)\n",
    "\n",
    "print(f\"✅ Report generator ready\")\n",
    "print(f\"   RAG Pipeline: {report_gen.rag.__class__.__name__}\")\n",
    "print(f\"   LLM: {report_gen.rag.llm.__class__.__name__}\")\n",
    "print(f\"   Search: {report_gen.search.__class__.__name__}\")"
   ]
  },
  {
   "cell_type": "markdown",
   "metadata": {},
   "source": [
    "## 2. Generate a Comprehensive Report\n",
    "\n",
    "Let's generate a full research report on the Nixon Shock and Fed response."
   ]
  },
  {
   "cell_type": "code",
   "execution_count": null,
   "metadata": {},
   "outputs": [],
   "source": [
    "# Generate Nixon Shock report\n",
    "print(\"Generating comprehensive report on Nixon Shock...\")\n",
    "print(\"This may take 1-2 minutes depending on your LLM provider...\\n\")\n",
    "\n",
    "nixon_report = report_gen.generate_comprehensive_report(\n",
    "    topic=\"Nixon Shock monetary policy response\",\n",
    "    time_period=(\"1971-06-01\", \"1972-06-30\"),  # Before and after August 1971\n",
    "    report_type=\"crisis_analysis\",\n",
    "    include_timeline=True\n",
    ")\n",
    "\n",
    "print(f\"✅ Report generated successfully!\")\n",
    "print(f\"\\nReport Details:\")\n",
    "print(f\"  Title: {nixon_report.title}\")\n",
    "print(f\"  Sections: {len(nixon_report.sections)}\")\n",
    "print(f\"  Citations: {len(nixon_report.citations)}\")\n",
    "print(f\"  Timeline events: {len(nixon_report.timeline.events) if nixon_report.timeline else 0}\")\n",
    "\n",
    "# Show executive summary\n",
    "print(f\"\\nExecutive Summary Preview:\")\n",
    "print(f\"{nixon_report.executive_summary[:500]}...\")"
   ]
  },
  {
   "cell_type": "markdown",
   "metadata": {},
   "source": [
    "## 3. Export Report to Multiple Formats\n",
    "\n",
    "Export the generated report to various formats for different uses."
   ]
  },
  {
   "cell_type": "code",
   "execution_count": null,
   "metadata": {},
   "outputs": [],
   "source": [
    "# Create export manager\n",
    "export_manager = ExportManager(output_dir=\"../reports\")\n",
    "\n",
    "# Export to HTML (for web viewing)\n",
    "html_path = export_manager.export_report(nixon_report, ExportFormat.HTML, \"nixon_shock_analysis\")\n",
    "print(f\"✅ HTML report exported to: {html_path}\")\n",
    "\n",
    "# Export to Markdown (for GitHub/documentation)\n",
    "md_path = export_manager.export_report(nixon_report, ExportFormat.MARKDOWN, \"nixon_shock_analysis\")\n",
    "print(f\"✅ Markdown report exported to: {md_path}\")\n",
    "\n",
    "# Export to JSON (for further processing)\n",
    "json_path = export_manager.export_report(nixon_report, ExportFormat.JSON, \"nixon_shock_analysis\")\n",
    "print(f\"✅ JSON report exported to: {json_path}\")\n",
    "\n",
    "# Export to LaTeX (for academic papers)\n",
    "latex_path = export_manager.export_report(nixon_report, ExportFormat.LATEX, \"nixon_shock_analysis\")\n",
    "print(f\"✅ LaTeX report exported to: {latex_path}\")\n",
    "\n",
    "print(f\"\\n📁 All reports saved to: {os.path.abspath(export_manager.output_dir)}\")"
   ]
  },
  {
   "cell_type": "markdown",
   "metadata": {},
   "source": [
    "## 4. Academic Citation Management\n",
    "\n",
    "Generate properly formatted citations in various academic styles."
   ]
  },
  {
   "cell_type": "code",
   "execution_count": null,
   "metadata": {},
   "outputs": [],
   "source": [
    "# Create citation manager\n",
    "citation_mgr = CitationManager()\n",
    "\n",
    "# Show citations in different styles\n",
    "sample_citation = nixon_report.citations[0] if nixon_report.citations else {\n",
    "    \"meeting\": \"FOMC Meeting Minutes\",\n",
    "    \"date\": \"1971-08-24\"\n",
    "}\n",
    "\n",
    "print(\"Sample citation in different academic styles:\\n\")\n",
    "\n",
    "# APA Style\n",
    "apa_citation = citation_mgr.format_citation(\n",
    "    meeting=sample_citation['meeting'],\n",
    "    date=sample_citation['date']\n",
    ")\n",
    "print(f\"APA: {apa_citation}\")\n",
    "\n",
    "# MLA Style\n",
    "citation_mgr.style = CitationStyle.MLA\n",
    "mla_citation = citation_mgr.format_citation(\n",
    "    meeting=sample_citation['meeting'],\n",
    "    date=sample_citation['date']\n",
    ")\n",
    "print(f\"MLA: {mla_citation}\")\n",
    "\n",
    "# Chicago Style\n",
    "citation_mgr.style = CitationStyle.CHICAGO\n",
    "chicago_citation = citation_mgr.format_citation(\n",
    "    meeting=sample_citation['meeting'],\n",
    "    date=sample_citation['date']\n",
    ")\n",
    "print(f\"Chicago: {chicago_citation}\")\n",
    "\n",
    "# Create full bibliography\n",
    "print(f\"\\nFull Bibliography (APA style) - First 5 citations:\")\n",
    "bibliography = citation_mgr.create_bibliography(nixon_report.citations[:5], CitationStyle.APA)\n",
    "for i, cite in enumerate(bibliography, 1):\n",
    "    print(f\"{i}. {cite}\")"
   ]
  },
  {
   "cell_type": "markdown",
   "metadata": {},
   "source": [
    "## 5. Generate Different Report Types\n",
    "\n",
    "The system supports various report types for different research needs."
   ]
  },
  {
   "cell_type": "code",
   "execution_count": null,
   "metadata": {},
   "outputs": [],
   "source": [
    "# Generate a policy evolution report\n",
    "print(\"Generating policy evolution report on inflation...\\n\")\n",
    "\n",
    "inflation_report = report_gen.generate_comprehensive_report(\n",
    "    topic=\"inflation control policies\",\n",
    "    time_period=(\"1969-01-01\", \"1973-12-31\"),\n",
    "    report_type=\"policy_evolution\",\n",
    "    include_timeline=True\n",
    ")\n",
    "\n",
    "print(f\"✅ Policy evolution report generated\")\n",
    "print(f\"   Title: {inflation_report.title}\")\n",
    "print(f\"   Period: 1969-1973\")\n",
    "print(f\"   Focus: Evolution of inflation control policies\")\n",
    "\n",
    "# Export this report too\n",
    "html_path2 = export_manager.export_report(inflation_report, ExportFormat.HTML, \"inflation_policy_evolution\")\n",
    "print(f\"\\n📄 Report exported to: {html_path2}\")"
   ]
  },
  {
   "cell_type": "markdown",
   "metadata": {},
   "source": [
    "## 6. Custom Report Generation\n",
    "\n",
    "You can customize reports for specific research questions."
   ]
  },
  {
   "cell_type": "code",
   "execution_count": null,
   "metadata": {},
   "outputs": [],
   "source": [
    "# Interactive report generation - modify these parameters\n",
    "your_topic = \"international monetary cooperation\"  # Change this\n",
    "start_date = \"1971-01-01\"  # Change this\n",
    "end_date = \"1973-12-31\"    # Change this\n",
    "report_type = \"standard\"    # Options: \"standard\", \"crisis_analysis\", \"policy_evolution\"\n",
    "\n",
    "print(f\"Generating custom report on: {your_topic}\")\n",
    "print(f\"Period: {start_date} to {end_date}\")\n",
    "print(f\"Type: {report_type}\\n\")\n",
    "\n",
    "custom_report = report_gen.generate_comprehensive_report(\n",
    "    topic=your_topic,\n",
    "    time_period=(start_date, end_date),\n",
    "    report_type=report_type,\n",
    "    include_timeline=True\n",
    ")\n",
    "\n",
    "print(f\"✅ Custom report generated!\")\n",
    "print(f\"\\nReport Structure:\")\n",
    "for i, section in enumerate(custom_report.sections, 1):\n",
    "    print(f\"  {i}. {section.title} (Confidence: {section.confidence:.2f})\")\n",
    "\n",
    "# Export the custom report\n",
    "custom_path = export_manager.export_report(\n",
    "    custom_report, \n",
    "    ExportFormat.HTML, \n",
    "    f\"{your_topic.replace(' ', '_')}_report\"\n",
    ")\n",
    "print(f\"\\n📄 Custom report exported to: {custom_path}\")"
   ]
  },
  {
   "cell_type": "markdown",
   "metadata": {},
   "source": [
    "## Summary\n",
    "\n",
    "### Phase 4 Capabilities Demonstrated:\n",
    "\n",
    "✅ **Automated Report Generation**\n",
    "- Comprehensive multi-section research reports\n",
    "- Executive summaries with AI-powered synthesis\n",
    "- Timeline generation for historical events\n",
    "- Confidence scoring for each section\n",
    "\n",
    "✅ **Multiple Export Formats**\n",
    "- **HTML**: Web-ready reports with styling\n",
    "- **Markdown**: GitHub-friendly documentation\n",
    "- **JSON**: Structured data for further processing\n",
    "- **LaTeX**: Academic paper-ready format\n",
    "- **PDF/Word**: (Planned with additional dependencies)\n",
    "\n",
    "✅ **Academic Citation Management**\n",
    "- APA, MLA, Chicago, Harvard styles\n",
    "- Automatic bibliography generation\n",
    "- Inline citations and footnotes\n",
    "- Citation indexing by year/topic\n",
    "\n",
    "✅ **Flexible Report Types**\n",
    "- **Standard Analysis**: General research reports\n",
    "- **Crisis Analysis**: Before/during/after crisis periods\n",
    "- **Policy Evolution**: Track policy changes over time\n",
    "\n",
    "### Example Use Cases:\n",
    "\n",
    "1. **Dissertation Chapter**: Generate a complete chapter on Fed response to Nixon Shock\n",
    "2. **Journal Article**: Create publication-ready analysis with proper citations\n",
    "3. **Policy Brief**: Quick executive summary of Fed decisions during crisis\n",
    "4. **Historical Timeline**: Visual representation of policy evolution\n",
    "\n",
    "### Next Steps:\n",
    "\n",
    "- Add PDF generation with `pdfkit` or `weasyprint`\n",
    "- Implement Word export with `python-docx`\n",
    "- Create visualization components for timelines\n",
    "- Build web interface for report generation\n",
    "- Add collaborative features for research teams"
   ]
  }
 ],
 "metadata": {
  "kernelspec": {
   "display_name": "Python 3",
   "language": "python",
   "name": "python3"
  },
  "language_info": {
   "codemirror_mode": {
    "name": "ipython",
    "version": 3
   },
   "file_extension": ".py",
   "mimetype": "text/x-python",
   "name": "python",
   "nbconvert_exporter": "python",
   "pygments_lexer": "ipython3",
   "version": "3.8.0"
  }
 },
 "nbformat": 4,
 "nbformat_minor": 4
}